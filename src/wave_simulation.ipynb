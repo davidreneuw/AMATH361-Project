{
 "cells": [
  {
   "cell_type": "code",
   "execution_count": 98,
   "id": "8ac58abb-ff0f-4fe1-a6a7-98034f5f7f4c",
   "metadata": {},
   "outputs": [],
   "source": [
    "import numpy as np\n",
    "import matplotlib.pyplot as plt\n",
    "import cmath\n",
    "\n",
    "def alpha(x, z):\n",
    "    lamb, mu, rho = params(x,z)\n",
    "    return np.sqrt((lamb+2*mu)/rho)\n",
    "\n",
    "def params(x, z):      \n",
    "    if z<L/2:\n",
    "        return [lamb1, mu1, rho1]\n",
    "    else:\n",
    "        return [lamb2, mu2, rho2]\n",
    "\n",
    "def phi_space_plane(x, z, vert = True):\n",
    "    return np.exp(complex(0,1)*(-alpha(x,z)*z)) if vert else np.exp(complex(0,1)*(-alpha(x,z)*x))\n",
    "\n",
    "def phi_space_sphere(x,z):\n",
    "    r = np.sqrt(x**2+z**2)\n",
    "    return (1/r)*np.exp(complex(0,1)*(-k*r))\n",
    "\n",
    "def phi_time(x,z,t,verti, sphere=False):\n",
    "    return phi_space_plane(x, z, vert = verti)*np.exp(complex(0,1)*alpha(x,z)*t) if not sphere else phi_space_sphere(x, z)*np.exp(complex(0,1)*alpha(x,z)*t)\n",
    "\n",
    "def f(x,z,t):\n",
    "    h = []\n",
    "    for e in x:\n",
    "        v = []\n",
    "        for k in z:\n",
    "            v.append(phi_time(e,k,t,True,False).real)\n",
    "        h.append(v)\n",
    "    return h"
   ]
  },
  {
   "cell_type": "code",
   "execution_count": 99,
   "id": "0bf12fd8-c0a1-48b0-8f03-54cadec979f0",
   "metadata": {},
   "outputs": [
    {
     "data": {
      "image/png": "[encoded data removed]",
      "text/plain": [
       "<Figure size 864x864 with 1 Axes>"
      ]
     },
     "metadata": {
      "needs_background": "light"
     },
     "output_type": "display_data"
    }
   ],
   "source": [
    "# ------------------------------\n",
    "L = 10\n",
    "xlst = np.linspace(0, L, 100)\n",
    "zlst = np.linspace(0, L, 100)\n",
    "xv, zv = np.meshgrid(xlst, zlst)\n",
    "t = np.linspace(0,100,100)\n",
    "\n",
    "lamb1, mu1, rho1 = 1, 1, 1\n",
    "lamb2, mu2, rho2 = 1, 1, 1\n",
    "\n",
    "# ------------------------------\n",
    "\n",
    "fig1, ax1 = plt.subplots()\n",
    "ax1.imshow(f(xlst,zlst,t[1]))\n",
    "fig1.set_size_inches(12,12)\n",
    "fig1.show()"
   ]
  },
  {
   "cell_type": "code",
   "execution_count": 97,
   "id": "72eb410e-a92a-469e-8a3a-76c3ccf6b4e0",
   "metadata": {},
   "outputs": [
    {
     "data": {
      "image/png": "[encoded data removed]",
      "text/plain": [
       "<Figure size 432x288 with 1 Axes>"
      ]
     },
     "metadata": {
      "needs_background": "light"
     },
     "output_type": "display_data"
    }
   ],
   "source": [
    "from matplotlib.animation import FuncAnimation\n",
    "\n",
    "fig = plt.figure()\n",
    "\n",
    "cont = plt.contourf(f(xlst,zlst,t[0]))\n",
    "\n",
    "# animationof the f function\n",
    "def animate(i):\n",
    "    global cont\n",
    "    for c in cont.collections:\n",
    "        c.remove()  # removes only the contours, leaves the rest intact\n",
    "    cont = plt.contourf(f(xlst,zlst, i))\n",
    "    plt.title('t = {}'.format(i))\n",
    "    return cont\n",
    "\n",
    "anim = animation.FuncAnimation(fig, animate, frames=t, repeat=False)\n",
    "anim.save('wave_animation.gif', writer=animation.FFMpegWriter())"
   ]
  },
  {
   "cell_type": "code",
   "execution_count": null,
   "id": "d5a2513b-8a2e-4740-815c-c39759f9868e",
   "metadata": {},
   "outputs": [],
   "source": [
    "def phi_spherical(r,t):\n",
    "    \"\"\"\n",
    "    solution to the spherical wave case\n",
    "    \"\"\"\n",
    "    B = 1\n",
    "    omega = 1\n",
    "    nu = 1\n",
    "\n",
    "    return B/r*np.exp(complex(0,1)*(omega*t-nu*r))"
   ]
  }
 ],
 "metadata": {
  "kernelspec": {
   "display_name": "Python 3",
   "language": "python",
   "name": "python3"
  },
  "language_info": {
   "codemirror_mode": {
    "name": "ipython",
    "version": 3
   },
   "file_extension": ".py",
   "mimetype": "text/x-python",
   "name": "python",
   "nbconvert_exporter": "python",
   "pygments_lexer": "ipython3",
   "version": "3.7.10"
  }
 },
 "nbformat": 4,
 "nbformat_minor": 5
}
