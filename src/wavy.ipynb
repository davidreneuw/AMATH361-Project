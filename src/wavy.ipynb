{
 "cells": [
  {
   "cell_type": "code",
   "execution_count": 5,
   "id": "15c3b89b-4b89-42f9-a3a4-13d8a912f5d0",
   "metadata": {},
   "outputs": [],
   "source": [
    "import numpy as np\n",
    "import matplotlib.pyplot as plt\n",
    "\n",
    "L = 10\n",
    "xlst = np.linspace(0, L, 1000)\n",
    "ylst = np.linspace(0, L, 1000)\n",
    "zlst = np.linspace(0, L, 1000)\n",
    "x, y, z = np.meshgrid(xlst, ylst, zlst)\n",
    "\n",
    "lamb1, mu1, rho1 = 1, 1, 1\n",
    "lamb2, mu2, rho2 = 1, 1, 1\n",
    "\n",
    "def alpha(x, z):\n",
    "    lamb, mu, rho = params(x,z)\n",
    "    return np.sqrt((lamb+2*mu)/rho)\n",
    "\n",
    "def params(x, z):\n",
    "    if z<L/2:\n",
    "        return [lamb1, mu1, rho1]\n",
    "    else:\n",
    "        return [lamb2, mu2, rho2]\n",
    "\n",
    "def lap_phi(pos, t):\n",
    "    \n"
   ]
  }
 ],
 "metadata": {
  "kernelspec": {
   "display_name": "Python 3",
   "language": "python",
   "name": "python3"
  },
  "language_info": {
   "codemirror_mode": {
    "name": "ipython",
    "version": 3
   },
   "file_extension": ".py",
   "mimetype": "text/x-python",
   "name": "python",
   "nbconvert_exporter": "python",
   "pygments_lexer": "ipython3",
   "version": "3.7.10"
  }
 },
 "nbformat": 4,
 "nbformat_minor": 5
}
